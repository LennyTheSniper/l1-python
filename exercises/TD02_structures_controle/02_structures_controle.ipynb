{
 "cells": [
  {
   "cell_type": "markdown",
   "metadata": {
    "slideshow": {
     "slide_type": "slide"
    }
   },
   "source": [
    "# TD 2: Les structures de contrôle\n",
    "\n",
    "---\n",
    "\n",
    "## 0. Récupération des nouveaux documents\n",
    "\n",
    "\n",
    "Les sujets de TD ainsi que les supports de cours sont publiés en ligne au fur et à mesure sur l'espace github original [https://github.com/uvsq-info/l1-python](https://github.com/uvsq-info/l1-python). Au moment où vous avez fait le fork de cet espace sur votre espace personnel, il est probable que tous les contenus n'étaient pas présents. Pour compléter votre espace, deux solutions sont possibles:\n",
    "\n",
    "\n",
    "1. (solution à privilégier) aller sur la page du projet original [https://github.com/uvsq-info/l1-python](https://github.com/uvsq-info/l1-python), et cliquer sur le bouton vert `Code` en haut à droite. Choisir `download ZIP`, puis extraire l'ensemble des nouveaux fichiers vers votre projet personnel local. Vous pouvez ensuite sauvegarder ces ajouts dans votre espace github personnel en suivant la procédure habituelle.\n",
    "2. (solution qui présente des risques de conflits entre différentes versions d'un même document) en ligne de commande dans le terminal, en suivant la procédure de la section *Intégrer les mises à jour du projet original* du fichier [README.md](https://github.com/uvsq-info/l1-python/blob/master/README.md#int%C3%A9grer-les-mises-%C3%A0-jour-du-projet-original)\n"
   ]
  },
  {
   "cell_type": "markdown",
   "metadata": {
    "slideshow": {
     "slide_type": "slide"
    }
   },
   "source": [
    "---\n",
    "\n",
    "## 1. Premiers exercices avec les structures conditionnelles\n",
    "\n",
    "**Exercice 1:**\n",
    "\n",
    "1. Soit *num1 = 15* et *num2 = 5*. Ecrire un programme qui affiche *Factors!* si l'un des nombres est un facteur de l'autre (c'est-à-dire qu'il divise l'autre nombre). Si aucun des nombres n'est un facteur de l'autre, le programme n'affiche rien.\n",
    "2. Changer le code que vous avez écrit de telle sorte qu'il affiche toujours *Factors!* si un nombre est un facteur de l'autre, mais qui affiche aussi *Not factors!* si aucun des nombres n'est un facteur de l'autre."
   ]
  },
  {
   "cell_type": "code",
   "execution_count": null,
   "metadata": {
    "slideshow": {
     "slide_type": "notes"
    }
   },
   "outputs": [
    {
     "ename": "Error",
     "evalue": "Session cannot generate requests",
     "output_type": "error",
     "traceback": [
      "Error: Session cannot generate requests",
      "at w.executeCodeCell (c:\\Users\\lenny\\.vscode\\extensions\\ms-toolsai.jupyter-2021.8.2041215044\\out\\client\\extension.js:52:301310)",
      "at w.execute (c:\\Users\\lenny\\.vscode\\extensions\\ms-toolsai.jupyter-2021.8.2041215044\\out\\client\\extension.js:52:300703)",
      "at w.start (c:\\Users\\lenny\\.vscode\\extensions\\ms-toolsai.jupyter-2021.8.2041215044\\out\\client\\extension.js:52:296367)",
      "at runMicrotasks (<anonymous>)",
      "at processTicksAndRejections (internal/process/task_queues.js:93:5)",
      "at async t.CellExecutionQueue.executeQueuedCells (c:\\Users\\lenny\\.vscode\\extensions\\ms-toolsai.jupyter-2021.8.2041215044\\out\\client\\extension.js:52:311160)",
      "at async t.CellExecutionQueue.start (c:\\Users\\lenny\\.vscode\\extensions\\ms-toolsai.jupyter-2021.8.2041215044\\out\\client\\extension.js:52:310700)"
     ]
    }
   ],
   "source": [
    "num1 = 15\n",
    "num2 = 5\n",
    "if (num1 // num2) == (num1 / num2):\n",
    "    print(\"Factors!\")\n",
    "else:\n",
    "    print(\"Not factors!\")"
   ]
  },
  {
   "cell_type": "markdown",
   "metadata": {
    "slideshow": {
     "slide_type": "slide"
    }
   },
   "source": [
    "**Exercice 2:**\n",
    "    \n",
    "Soit *state = \"Georgia\"*. Ecrire un programme qui permet d'afficher un message spécifique en fonction de la variable *state* :  \n",
    "* \"School isn't cancelled.\" si nous sommes à New Jersey,  \n",
    "* \"School is postponed.\" si nous sommes à North Carolina,\n",
    "* \"School is cancelled!\" si nous sommes à Georgia,  \n",
    "* \"School's status is unknown\" si nous ne sommes pas dans un des trois états précédemment mentionnés."
   ]
  },
  {
   "cell_type": "code",
   "execution_count": null,
   "metadata": {
    "slideshow": {
     "slide_type": "notes"
    }
   },
   "outputs": [
    {
     "name": "stdout",
     "output_type": "stream",
     "text": [
      "School is cancelled!\n"
     ]
    }
   ],
   "source": [
    "state = \"Georgia\"\n",
    "if state == \"New Jersey\":\n",
    "    print(\"School isn't cancelled.\")\n",
    "elif state == \"North Carolina\":\n",
    "    print(\"School is postponed.\")\n",
    "elif state == \"Georgia\":\n",
    "    print(\"School is cancelled!\")\n",
    "else:\n",
    "    print(\"School's status is unknown\")\n"
   ]
  },
  {
   "cell_type": "markdown",
   "metadata": {
    "slideshow": {
     "slide_type": "slide"
    }
   },
   "source": [
    "**Exercice 3:**\n",
    "\n",
    "Ecrire un programme pour découvrir le signe du zodiaque chinois pour une année donnée. Le signe du zodiaque chinois est basé sur un cycle de 12 ans et chaque année de ce cycle est représentée par un animal :\n",
    "* 0: monkey\n",
    "* 1: rooster\n",
    "* 2: dog\n",
    "* 3: pig\n",
    "* 4: rat\n",
    "* 5: ox\n",
    "* 6: tiger\n",
    "* 7: rabbit\n",
    "* 8: dragon\n",
    "* 9: snake\n",
    "* 10: horse\n",
    "* 11: sheep\n",
    "\n",
    "La valeur de l'année % 12 détermine le signe du zodiaque. Par exemple, 1900 est l'année du *rat* puisque 1900 % 12 est 4."
   ]
  },
  {
   "cell_type": "code",
   "execution_count": null,
   "metadata": {
    "slideshow": {
     "slide_type": "notes"
    }
   },
   "outputs": [
    {
     "name": "stdout",
     "output_type": "stream",
     "text": [
      "ox\n"
     ]
    }
   ],
   "source": [
    "Annee = 2021\n",
    "if Annee % 12 == 0:\n",
    "    print(\"monkey\")\n",
    "elif Annee % 12 == 1:\n",
    "    print(\"rooster\")\n",
    "elif Annee % 12 == 2:\n",
    "    print(\"dog\")\n",
    "elif Annee % 12 == 3:\n",
    "    print(\"pig\")\n",
    "elif Annee % 12 == 4:\n",
    "    print(\"rat\")\n",
    "elif Annee % 12 == 5:\n",
    "    print(\"ox\")\n",
    "elif Annee % 12 == 6:\n",
    "    print(\"tiger\")\n",
    "elif Annee % 12 == 7:\n",
    "    print(\"rabbit\")\n",
    "elif Annee % 12 == 8:\n",
    "    print(\"dragon\")\n",
    "elif Annee % 12 == 9:\n",
    "    print(\"snake\")\n",
    "elif Annee % 12 == 10:\n",
    "    print(\"horse\")\n",
    "else:\n",
    "    print(\"sheep\")"
   ]
  },
  {
   "cell_type": "markdown",
   "metadata": {
    "slideshow": {
     "slide_type": "slide"
    }
   },
   "source": [
    "**Exercice 4:**\n",
    "\n",
    "Soit *temperature = -3.7* et *celsius = True*. *celsius* est une variable booléenne qui indique si la température est en Celsius; si c'est *False*, alors la température donnée est en Fahrenheit. Ecrire un premier programme en utilisant *if-else* seulement qui permet d'afficher *Freezing* si les valeurs données représentent une température très basse, et *Not freezing* si ce n'est pas le cas. En Celsius, on considère qu'il fait très froid lorsque la température est inférieure ou égale à 0 degré. En Fahrenheit, on considère qu'il fait très froid lorsque la température est inférieure ou égale à 32 degrés. Proposer une seconde solution en utilisant *if-elif-else* à ce même problème."
   ]
  },
  {
   "cell_type": "code",
   "execution_count": null,
   "metadata": {
    "slideshow": {
     "slide_type": "notes"
    }
   },
   "outputs": [
    {
     "name": "stdout",
     "output_type": "stream",
     "text": [
      "Freezing\n"
     ]
    }
   ],
   "source": [
    "temperature = -3.7\n",
    "celcius = True\n",
    "if temperature <= 0 and celcius == True:\n",
    "    print(\"Freezing\")\n",
    "elif temperature <= 32 and celcius == False:\n",
    "    print(\"Freezing\")\n",
    "else:\n",
    "    print(\"Not freezing\")"
   ]
  },
  {
   "cell_type": "markdown",
   "metadata": {
    "slideshow": {
     "slide_type": "slide"
    }
   },
   "source": [
    "**Exercice 5:**\n",
    "    \n",
    "Ecrire un programme qui permet de déterminer si une année est bissextile ou non en utilisant une seule instruction *if-else*. Une année *A* est bissextile si *A* est divisible par 4. Elle ne l’est cependant pas si *A* est un multiple\n",
    "de 100, à moins que *A* ne soit multiple de 400.    "
   ]
  },
  {
   "cell_type": "code",
   "execution_count": null,
   "metadata": {
    "slideshow": {
     "slide_type": "notes"
    }
   },
   "outputs": [
    {
     "name": "stdout",
     "output_type": "stream",
     "text": [
      "Bissextile!\n"
     ]
    }
   ],
   "source": [
    "A = 2000\n",
    "if A % 4 == 0 and (not A % 100 == 0 or A % 400 == 0):\n",
    "    print(\"Bissextile!\")\n",
    "else:\n",
    "    print(\"Pas bissextile!\")"
   ]
  },
  {
   "cell_type": "markdown",
   "metadata": {},
   "source": [
    "---\n",
    "\n",
    "## 2. Premiers exercices avec les structures itératives\n",
    "\n",
    "**Exercice 6:**\n",
    "\n",
    "1. Ecrire un programme qui permet d'afficher tous les nombres entre 1 et 10 (bornes incluses).\n",
    "2. Ecrire un programme se limitant à la boucle *for* qui permet d'afficher tous les nombres pairs entre 1 et 20 (bornes incluses). Proposer une deuxième solution en incluant une structure conditionnelle."
   ]
  },
  {
   "cell_type": "code",
   "execution_count": 1,
   "metadata": {},
   "outputs": [
    {
     "name": "stdout",
     "output_type": "stream",
     "text": [
      "2\n",
      "4\n",
      "6\n",
      "8\n",
      "10\n",
      "12\n",
      "14\n",
      "16\n",
      "18\n",
      "20\n"
     ]
    }
   ],
   "source": [
    "nombre = 20\n",
    "for i in range (nombre):\n",
    "    if (i+1) % 2 == 0:\n",
    "        print (i+1)"
   ]
  },
  {
   "cell_type": "markdown",
   "metadata": {},
   "source": [
    "**Exercice 7:**\n",
    "    \n",
    "1. Ecrire un programme qui demande à l'utilisateur de saisir *n* nombres, *n* étant choisi par l'utilisateur, puis d'afficher la moyenne de ces nombres.\n",
    "\n",
    "2. Même question, mais l'utilisateur ne choisit pas à l'avance le nombre *n*, la procédure s'arrête quand il saisit le nombre -1.\n"
   ]
  },
  {
   "cell_type": "code",
   "execution_count": 2,
   "metadata": {},
   "outputs": [
    {
     "name": "stdout",
     "output_type": "stream",
     "text": [
      "La moyenne de tous les nombres chosis est 7.0\n"
     ]
    }
   ],
   "source": [
    "n = int(input(\"Choisis combien de nombres tu veux\"))\n",
    "moy = 0\n",
    "for i in range (n):\n",
    "    somme = int(input(\"Met le nombre que tu veux ajouter à la moyenne totale\"))\n",
    "    moy += somme\n",
    "print(\"La moyenne de tous les nombres chosis est\", moy/n)"
   ]
  },
  {
   "cell_type": "code",
   "execution_count": 12,
   "metadata": {},
   "outputs": [
    {
     "name": "stdout",
     "output_type": "stream",
     "text": [
      "La moyenne de tous les nombres chosis est 7.0\n"
     ]
    }
   ],
   "source": [
    "moy = 0\n",
    "somme = 0\n",
    "n = 0\n",
    "while somme != -1:\n",
    "    somme = int(input(\"Met le nombre que tu veux ajouter à la moyenne totale\"))\n",
    "    if somme == -1:\n",
    "        print(\"La moyenne de tous les nombres chosis est\", moy/n)\n",
    "    else:\n",
    "        moy = moy + somme\n",
    "        n += 1"
   ]
  },
  {
   "cell_type": "markdown",
   "metadata": {},
   "source": [
    "**Exercice 8:**\n",
    "\n",
    "Ecrire un programme qui permet de calculer le factoriel d'un nombre positif donné par l'utlisateur selon la formule suivante : \n",
    "n! = 1 x 2 x ... x n.  \n",
    "\n",
    "1. Une première version en utilisant la boucle *for*\n",
    "2. Une seconde version en utilisant la boucle *while*"
   ]
  },
  {
   "cell_type": "code",
   "execution_count": 1,
   "metadata": {},
   "outputs": [
    {
     "name": "stdout",
     "output_type": "stream",
     "text": [
      "n! = 720\n"
     ]
    }
   ],
   "source": [
    "duration = int(input(\"Donnez la valeur dont vous demandez la factorielle\"))\n",
    "n = 1\n",
    "for i in range (2,duration+1):\n",
    "    n = n * i\n",
    "print(\"n! =\",n)"
   ]
  },
  {
   "cell_type": "code",
   "execution_count": 2,
   "metadata": {},
   "outputs": [
    {
     "name": "stdout",
     "output_type": "stream",
     "text": [
      "n! = 720\n"
     ]
    }
   ],
   "source": [
    "duration = int(input(\"Donnez la valeur dont vous demandez la factorielle\"))\n",
    "n = 1\n",
    "while duration >= 1 :\n",
    "    n = n * duration\n",
    "    duration -= 1\n",
    "print(\"n! =\",n)"
   ]
  },
  {
   "cell_type": "markdown",
   "metadata": {
    "slideshow": {
     "slide_type": "slide"
    }
   },
   "source": [
    "---\n",
    "\n",
    "## 3. Pour aller plus loin\n",
    "\n",
    "**Excercice 9:**\n",
    "\n",
    "Ecrire un programme qui permet de connaître le jour de naissance de l'utilisateur en posant cinq questions.\n",
    "Chaque question demande si le jour est dans l'un des cinq ensembles suivants :\n",
    "\n",
    "* Set 1: \\[1 3 5 7 9 11 13 15 17 19 21 23 25 27 29 31\\]\n",
    "* Set 2: \\[2 3 6 7 10 11 14 15 18 19 22 23 26 27 30 31\\]\n",
    "* Set 3: \\[4 5 6 7 12 13 14 15 20 21 22 23 28 29 30 31\\]\n",
    "* Set 4: \\[8 9 10 11 12 13 14 15 24 25 26 27 28 29 30 31\\]\n",
    "* Set 5: \\[16 17 18 19 20 21 22 23 24 25 26 27 28 29 30 31\\]\n",
    "    \n",
    "\n",
    "Le jour de naissance est la somme des premiers nombres dans les ensembles où le jour apparaît. Par exemple,\n",
    "si le jour de naissance est 19, il apparaît dans Set 1, Set 2 et Set 5. Les premiers chiffres de ces trois ensembles sont 1, 2 et 16. Leur somme est 19."
   ]
  },
  {
   "cell_type": "code",
   "execution_count": 13,
   "metadata": {
    "slideshow": {
     "slide_type": "notes"
    }
   },
   "outputs": [
    {
     "name": "stdout",
     "output_type": "stream",
     "text": [
      "Le jour de ta date de naissance doit être le 30 !\n"
     ]
    }
   ],
   "source": [
    "Binary1 = \"\"\n",
    "Binary2 = \"\"\n",
    "Binary3 = \"\"\n",
    "Binary4 = \"\"\n",
    "Binary5 = \"\"\n",
    "\n",
    "while Binary1 != \"0\" and Binary1 != \"1\":\n",
    "    Binary1 = input(\"Est-ce que votre date de naissance se trouve dans cet ensemble (Oui = 1, Non = 0)? [1 3 5 7 9 11 13 15 17 19 21 23 25 27 29 31]\")\n",
    "while Binary2 != \"0\" and Binary2 != \"1\":\n",
    "    Binary2 = input(\"Est-ce que votre date de naissance se trouve dans cet ensemble (Oui = 1, Non = 0)? [2 3 6 7 10 11 14 15 18 19 22 23 26 27 30 31]\")\n",
    "while Binary3 != \"0\" and Binary3 != \"1\":\n",
    "    Binary3 = input(\"Est-ce que votre date de naissance se trouve dans cet ensemble (Oui = 1, Non = 0)? [4 5 6 7 12 13 14 15 20 21 22 23 28 29 30 31]\")\n",
    "while Binary4 != \"0\" and Binary4 != \"1\":\n",
    "    Binary4 = input(\"Est-ce que votre date de naissance se trouve dans cet ensemble (Oui = 1, Non = 0)? [8 9 10 11 12 13 14 15 24 25 26 27 28 29 30 31]\")\n",
    "while Binary5 != \"0\" and Binary5 != \"1\":\n",
    "    Binary5 = input(\"Est-ce que votre date de naissance se trouve dans cet ensemble (Oui = 1, Non = 0)? [16 17 18 19 20 21 22 23 24 25 26 27 28 29 30 31]\")\n",
    "DateDeNaissance = int(Binary1) + 2 * int(Binary2) + 4 * int(Binary3) + 8 * int(Binary4) + 16 * int(Binary5)\n",
    "print (\"Le jour de ta date de naissance doit être le\",DateDeNaissance,\"!\")"
   ]
  },
  {
   "cell_type": "markdown",
   "metadata": {
    "slideshow": {
     "slide_type": "slide"
    }
   },
   "source": [
    "**Excercice 10:**\n",
    "\n",
    "Ecrire un programme qui permet de génèrer de manière aléatoire un nombre à deux chiffres, invite l'utilisateur à saisir un nombre à deux chiffres et détermine si l'utilisateur gagne selon les règles suivantes :\n",
    "* Si l'entrée de l'utilisateur correspond à la loterie (le nombre généré aléatoirement) dans l'ordre exact, la récompense est de 10 000€.\n",
    "* Sinon, si les deux chiffres entrés par l'utilisateur correspondent aux deux chiffres du numéro de loterie, la récompense est de 3 000€.\n",
    "* Sinon, si un chiffre dans l'entrée de l'utilisateur correspond à un chiffre dans le numéro de loterie, la récompense est de 1 000€.\n",
    "\n",
    "**Astuce :** Utiliser la fonction **random.randint(0, 99)** pour génèrer de manière aléatoire un nombre à deux chiffres. Cette fonction doit être accompagné par **import random** comme première instruction dans le code."
   ]
  },
  {
   "cell_type": "code",
   "execution_count": 4,
   "metadata": {
    "slideshow": {
     "slide_type": "notes"
    }
   },
   "outputs": [
    {
     "name": "stdout",
     "output_type": "stream",
     "text": [
      "Vous avez maintenant 1000€\n"
     ]
    }
   ],
   "source": [
    "import random\n",
    "if 'Argent' in locals():\n",
    "    Argent += 0\n",
    "else:\n",
    "    Argent = 0\n",
    "RNG = random.randint(0,99)\n",
    "Input = int(input(\"Entre un nombre entre 0 et 99\"))\n",
    "if Input <= 0 and Input >= 99 :\n",
    "    Input = 0\n",
    "if Input == RNG:\n",
    "    print(\"Jackpot! Vous avez gagné €10 000!\")\n",
    "    Argent += 10000\n",
    "elif int(str(Input)[0]) == int(str(RNG)[0]) and int(str(Input)[1]) == int(str(RNG)[1]):\n",
    "    print(\"Bingo! Vous avez gagné €3 000!\")\n",
    "    Argent += 3000\n",
    "elif int(str(Input)[0]) == int(str(RNG)[0]) or int(str(Input)[0]) == int(str(RNG)[1]) or int(str(Input)[1]) == int(str(RNG)[0]) or int(str(Input)[1]) == int(str(RNG)[1]):\n",
    "    print(\"Pas mal! Vous avez gagné €1 000!\")\n",
    "    Argent += 1000\n",
    "print (\"Vous avez maintenant \",Argent,\"€\",sep='')"
   ]
  },
  {
   "cell_type": "markdown",
   "metadata": {},
   "source": [
    "**Exercice 11:**\n",
    "    \n",
    "Ecrire un programme qui permet de calculer la somme des chiffres d'un entier *n* donné. Le nombre *n* doit être compris entre 10 et 20 (bornes incluses)."
   ]
  },
  {
   "cell_type": "code",
   "execution_count": 11,
   "metadata": {},
   "outputs": [
    {
     "name": "stdout",
     "output_type": "stream",
     "text": [
      "La somme des deux chiffres de ce nombre est 3\n"
     ]
    }
   ],
   "source": [
    "n = 0\n",
    "if n <= 10 or n >= 20 :\n",
    "    n = int(input(\"Entre un nombre entre 10 et 20\"))\n",
    "somme = int(str(n)[0])+int(str(n)[1])\n",
    "print(\"La somme des deux chiffres de ce nombre est\",somme)\n"
   ]
  },
  {
   "cell_type": "markdown",
   "metadata": {},
   "source": [
    "**Exercice 12:**\n",
    "\n",
    "1. Ecrire un programme qui permet de générer aléatoirement deux nombres entre 0 et 9, de calculer leurs différences (en valeur absolue), puis d'inviter l'utilisateur à répondre à la question suivante *que vaut abs(number1 - number2)?*. Le programme doit permettre à l'utilisateur de répondre plusieurs fois jusqu'à la saisie de la bonne réponse.\n",
    "2. Modifier le programme précédent de telle sorte qu'il génère cinq occurences à la suite invitant à répondre à la question précédente. A la fin, le programme affiche le nombre moyen de tentatives qu'il a fallu à l'utilisateur pour répondre à une question."
   ]
  },
  {
   "cell_type": "code",
   "execution_count": 30,
   "metadata": {
    "tags": []
   },
   "outputs": [
    {
     "name": "stdout",
     "output_type": "stream",
     "text": [
      "Bien joué! La valeur correcte est bien de 3\n"
     ]
    }
   ],
   "source": [
    "import random\n",
    "Input = -1\n",
    "RNG1 = random.randint(0,9)\n",
    "RNG2 = random.randint(0,9)\n",
    "Difference = RNG1 - RNG2\n",
    "if Difference < 0:\n",
    "    Difference -= 2 * Difference\n",
    "while Input != Difference:\n",
    "    Input = int(input(\"Combien vaut la valeur absolue des deux chiffres choisis aléatoirement?\"))\n",
    "print(\"Bien joué! La valeur correcte est bien de\",Difference)\n"
   ]
  },
  {
   "cell_type": "code",
   "execution_count": 38,
   "metadata": {
    "tags": []
   },
   "outputs": [
    {
     "name": "stdout",
     "output_type": "stream",
     "text": [
      "Bien joué! La valeur correcte est bien de 5\n",
      "Bien joué! La valeur correcte est bien de 2\n",
      "Bien joué! La valeur correcte est bien de 6\n",
      "Bien joué! La valeur correcte est bien de 3\n",
      "Bien joué! La valeur correcte est bien de 4\n",
      "Vous avez une moyenne de 3.0 tentatives par partie\n"
     ]
    }
   ],
   "source": [
    "import random\n",
    "Input = -1\n",
    "Tentative = 0\n",
    "Moyenne = 0\n",
    "for i in range (5):\n",
    "    RNG1 = random.randint(0,9)\n",
    "    RNG2 = random.randint(0,9)\n",
    "    Difference = RNG1 - RNG2\n",
    "    if Difference < 0:\n",
    "        Difference -= 2 * Difference\n",
    "    while Input != Difference:\n",
    "        Input = int(input(\"Combien vaut la valeur absolue de la différence des deux chiffres choisis aléatoirement?\"))\n",
    "        Tentative += 1\n",
    "    Moyenne += Tentative\n",
    "    Tentative = 0\n",
    "    Input = -1\n",
    "    print(\"Bien joué! La valeur correcte est bien de\",Difference)\n",
    "Moyenne = Moyenne / 5\n",
    "print(\"Vous avez une moyenne de\",Moyenne,\"tentatives par partie\")\n"
   ]
  },
  {
   "cell_type": "markdown",
   "metadata": {},
   "source": [
    "**Exercice 13:**\n",
    "\n",
    "Ecrire un programme qui permet de calculer le nombre de mots dans une phrase saisie par l'utilisateur."
   ]
  },
  {
   "cell_type": "code",
   "execution_count": 54,
   "metadata": {
    "tags": []
   },
   "outputs": [
    {
     "name": "stdout",
     "output_type": "stream",
     "text": [
      "Il y a 8 mots dans cette phrase\n"
     ]
    }
   ],
   "source": [
    "Alphabet = [\"0\",\"1\",\"2\",\"3\",\"4\",\"5\",\"6\",\"7\",\"8\",\"9\",\"a\",\"b\",\"c\",\"d\",\"e\",\"f\",\"g\",\"h\",\"i\",\"j\",\"k\",\"l\",\"m\",\"n\",\"o\",\"p\",\"q\",\"r\",\"s\",\"t\",\"u\",\"v\",\"w\",\"x\",\"y\",\"z\",\"A\",\"B\",\"C\",\"D\",\"E\",\"F\",\"G\",\"H\",\"I\",\"J\",\"K\",\"L\",\"M\",\"N\",\"O\",\"P\",\"Q\",\"R\",\"S\",\"T\",\"U\",\"V\",\"W\",\"X\",\"Y\",\"Z\",\"ä\",\"â\",\"à\",\"ç\",\"ë\",\"ê\",\"é\",\"è\",\"ï\",\"î\",\"ö\",\"ô\",\"ü\",\"û\",\"ù\",\"ÿ\",\"Ä\",\"Â\",\"À\",\"Ç\",\"Ë\",\"Ê\",\"É\",\"È\",\"Ï\",\"Î\",\"Ö\",\"Ô\",\"Ü\",\"Û\",\"Ù\",\"Ÿ\"]\n",
    "Phrase = str(input(\"Insérer votre phrase\"))\n",
    "LongeurPhrase = len(Phrase)\n",
    "Mots = 0\n",
    "i = 0\n",
    "while i <= LongeurPhrase:\n",
    "    if i != LongeurPhrase and str(Phrase)[i] in Alphabet:\n",
    "        Mots += 1\n",
    "        i += 1\n",
    "        while i != LongeurPhrase and str(Phrase)[i] in Alphabet:\n",
    "            i += 1\n",
    "    else:\n",
    "        i += 1\n",
    "if Mots <= 1:\n",
    "    print(\"Il y a\",Mots,\"mot dans cette phrase.\")\n",
    "else:\n",
    "    print(\"Il y a\",Mots,\"mots dans cette phrase.\")"
   ]
  },
  {
   "cell_type": "markdown",
   "metadata": {
    "slideshow": {
     "slide_type": "slide"
    }
   },
   "source": [
    "---\n",
    "\n",
    "## 4. Pour s'entraîner\n",
    "\n",
    "**Exercice 14:**\n",
    "    \n",
    "Soit la variable my_input = \"zoophysiology\". Ecrire un script qui permet d'afficher l'un des messages suivants en fonction du nombre maximum de *o* consécutifs dans la variable *my_input*. Par exemple, le script doit afficher \"I like studying birds! I want to become an ornithologist!\" parce qu'il y a deux *o* consécutifs, même s'il y a aussi des *o* individual.\n",
    "Ignorer les *o* majuscules - recherchez que les *o* minuscules.\n",
    "\n",
    "* Si \"o\" apparaît trois fois ou plus de suite, afficher le message \"I like going to the zoo!\"  \n",
    "* Si \"o\" apparaît deux fois, afficher le message \"I like studying birds! I want to become an ornithologist!\"  \n",
    "* Si \"o\" apparaît une seule fois, afficher le message \"I like studying fish! I want to become an ichthyologist!\"  \n",
    "* Si \"o\" n'apparaît pas dans la variable *my_input*, afficher le message \"I miss going to the zoo!\"  \n",
    "\n",
    "**Astuce :** Utiliser l'opérateur **in** qui renvoie **True** si la première chaîne se trouve dans la deuxième chaîne. "
   ]
  },
  {
   "cell_type": "code",
   "execution_count": 56,
   "metadata": {
    "slideshow": {
     "slide_type": "notes"
    }
   },
   "outputs": [
    {
     "name": "stdout",
     "output_type": "stream",
     "text": [
      "I like studying birds! I want to become an ornithologist!\n"
     ]
    }
   ],
   "source": [
    "my_input = \"zoophysiology\"\n",
    "Longeur_my_input = len(my_input)\n",
    "if \"ooo\" in my_input:\n",
    "    print(\"I like going to the zoo!\")\n",
    "elif \"oo\" in my_input:\n",
    "    print(\"I like studying birds! I want to become an ornithologist!\")\n",
    "elif \"o\" in my_input:\n",
    "    print(\"I like studying fish! I want to become an ichthyologist!\")\n",
    "else:\n",
    "    print(\"I miss going to the zoo!\")"
   ]
  },
  {
   "cell_type": "markdown",
   "metadata": {
    "slideshow": {
     "slide_type": "slide"
    }
   },
   "source": [
    "**Exercice 15:**\n",
    "    \n",
    "Créer quatre variables nommées *team_1* et *team_2*, représentant deux noms d'équipes, et *team_1_score* et *team_2_score*, représentant les scores de ces deux équipes. \n",
    "Une équipe gagne si son score est supérieur à l'autre score de l'autre équipe.\n",
    " \n",
    "Ecrire un premier script qui permet d'afficher les messages suivants selon les valeurs entrées, ceci en utilisant seulement les quatres variables créées :\n",
    "* Si une équipe bat l'autre, affichez: \"\\[winner\\] beat \\[loser\\] by \\[margin\\]\"\n",
    "* Si aucune des équipes n'a gagné, affichez: \"\\[team_1\\] played \\[team_2\\] and it was a tie\"\n",
    "\n",
    "Ecrire un deuxième script qui permet d'afficher les mêmes messages mais en ajoutant trois variables de plus :\n",
    "* La variable *winner* pour définir l'équipe gagnante  \n",
    "* La variable *loser* pour définier l'équipe perdante  \n",
    "* La variable *margin* pour définir la différence entre les deux scores \n"
   ]
  },
  {
   "cell_type": "code",
   "execution_count": 58,
   "metadata": {
    "slideshow": {
     "slide_type": "notes"
    }
   },
   "outputs": [
    {
     "name": "stdout",
     "output_type": "stream",
     "text": [
      "Paris Saint-Germain beat Saint-Étienne by 1\n"
     ]
    }
   ],
   "source": [
    "team_1 = \"Paris Saint-Germain\"\n",
    "team_2 = \"Saint-Étienne\"\n",
    "team_1_score = 2\n",
    "team_2_score = 1\n",
    "if team_1_score > team_2_score:\n",
    "    print(team_1,\"beat\",team_2,\"by\",team_1_score - team_2_score)\n",
    "elif team_1_score < team_2_score:\n",
    "    print(team_2,\"beat\",team_1,\"by\",team_2_score - team_1_score)\n",
    "else:\n",
    "    print(team_1,\"played\",team_2,\"and it was a tie\")\n"
   ]
  },
  {
   "cell_type": "code",
   "execution_count": 59,
   "metadata": {
    "slideshow": {
     "slide_type": "notes"
    }
   },
   "outputs": [
    {
     "name": "stdout",
     "output_type": "stream",
     "text": [
      "Paris Saint-Germain beat Saint-Étienne by 1\n"
     ]
    }
   ],
   "source": [
    "team_1 = \"Paris Saint-Germain\"\n",
    "team_2 = \"Saint-Étienne\"\n",
    "team_1_score = 2\n",
    "team_2_score = 1\n",
    "if team_1_score > team_2_score:\n",
    "    winner = team_1\n",
    "    loser = team_2\n",
    "    margin = team_1_score - team_2_score\n",
    "    print(winner,\"beat\",loser,\"by\",margin)\n",
    "elif team_1_score < team_2_score:\n",
    "    winner = team_2\n",
    "    loser = team_1\n",
    "    margin = team_2_score - team_1_score\n",
    "    print(winner,\"beat\",loser,\"by\",margin)\n",
    "else:\n",
    "    print(team_1,\"played\",team_2,\"and it was a tie\")\n"
   ]
  },
  {
   "cell_type": "markdown",
   "metadata": {
    "slideshow": {
     "slide_type": "slide"
    }
   },
   "source": [
    "**Exercice 16:**\n",
    "    \n",
    "L'Indice de Masse Corporelle (IMC) permet d'estimer le poids idéal en fonction de la taille. Son calcul correspond au poids en kilogrammes divisé par le carré de la taille en mètre (IMC = poids en kg/taille² en m). Le chiffre obtenu permet d'estimer la corpulence et éventuellement le surpoids ou l'obésité chez l'adulte, homme ou femme.\n",
    "L'interprétation de l'IMC pour les personnes de 16 ans et plus est la suivante :\n",
    "* Moins de 18.5: Underweight\n",
    "* Entre 18.5 et 24.9: Normal\n",
    "* Entre 25.0 et 29.9: Overweight\n",
    "* Plus que 30.0: Obese\n",
    "\n",
    "Ecrire un programme qui permet de saisir un poids en *pounds* et une taille en *inches*, de calculer et d'afficher l'IMC à deux valeurs après la virgule, et d'afficher l'interprétation la plus adéquate. Notez qu'un *pound* équivaut à 0,45359237 kilogrammes et qu'un *inch* équivaut à 0,0254 mètre.  \n",
    "\n",
    "**Astuce :** Pour afficher deux valeurs après la virgule, utilisez la fonction **format(nom_variable, \".2f\")**. Exemple : **print('La moyenne est :', format(moyenne, \".2f\"))**"
   ]
  },
  {
   "cell_type": "code",
   "execution_count": 64,
   "metadata": {
    "slideshow": {
     "slide_type": "notes"
    }
   },
   "outputs": [
    {
     "name": "stdout",
     "output_type": "stream",
     "text": [
      "Vous avez un ICM de 20.34 donc vous êtes Normal\n"
     ]
    }
   ],
   "source": [
    "Weight = int(input(\"Insérer votre masse en livres\"))\n",
    "Weight = Weight / 2.205\n",
    "Height = int(input(\"Insérer votre hauteur en pouces\"))\n",
    "Height = Height / 39.37\n",
    "IMC = Weight / Height ** 2\n",
    "if IMC < 18.5:\n",
    "    Status = \"Underweight\"\n",
    "elif IMC < 25:\n",
    "    Status = \"Normal\"\n",
    "elif IMC < 30:\n",
    "    Status = \"Overweight\"\n",
    "else:\n",
    "    Status = \"Obese\"\n",
    "print(\"Vous avez un ICM de\",format(IMC, \".2f\"),\"donc vous êtes\",Status)"
   ]
  },
  {
   "cell_type": "markdown",
   "metadata": {},
   "source": [
    "**Exercice 17:**\n",
    "\n",
    "Ecrire un programme qui affiche un triangle d'étoiles de taille donnée, par exemple si on entre 6, le programme affiche:\n",
    "```\n",
    "*\n",
    "**\n",
    "***\n",
    "****\n",
    "*****\n",
    "******\n",
    "```"
   ]
  },
  {
   "cell_type": "code",
   "execution_count": null,
   "metadata": {
    "tags": []
   },
   "outputs": [],
   "source": []
  },
  {
   "cell_type": "markdown",
   "metadata": {},
   "source": [
    "**Exercice 18:**\n",
    "\n",
    "Même exercice mais cette fois la sortie est\n",
    "```\n",
    "     *\n",
    "    **         \n",
    "   ***\n",
    "  ****\n",
    " *****\n",
    "******\n",
    "```"
   ]
  },
  {
   "cell_type": "code",
   "execution_count": null,
   "metadata": {
    "tags": []
   },
   "outputs": [],
   "source": []
  },
  {
   "cell_type": "markdown",
   "metadata": {},
   "source": [
    "**Exercice 19:**\n",
    "\n",
    "Ecrire un programme qui calcule, étant donné un entier *n* rentré par l'utilisateur, la plus grande puissance de *n* inférieure à un million."
   ]
  },
  {
   "cell_type": "code",
   "execution_count": null,
   "metadata": {
    "tags": []
   },
   "outputs": [],
   "source": []
  }
 ],
 "metadata": {
  "celltoolbar": "Diaporama",
  "interpreter": {
   "hash": "c714e0e382fa87b620b7895797861916bcac4ccec42654d3a02afb108a4d6b10"
  },
  "kernelspec": {
   "display_name": "Python 3.9.7 64-bit ('base': conda)",
   "name": "python3"
  },
  "language_info": {
   "codemirror_mode": {
    "name": "ipython",
    "version": 3
   },
   "file_extension": ".py",
   "mimetype": "text/x-python",
   "name": "python",
   "nbconvert_exporter": "python",
   "pygments_lexer": "ipython3",
   "version": "3.9.7"
  }
 },
 "nbformat": 4,
 "nbformat_minor": 4
}
